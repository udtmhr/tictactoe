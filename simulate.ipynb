{
 "cells": [
  {
   "cell_type": "code",
   "execution_count": 1,
   "metadata": {},
   "outputs": [],
   "source": [
    "import random\n",
    "from tictactoe import TicTacToe\n",
    "from player import qlearn, random_player, mcs, dqn, alphazero, alphabeta\n",
    "\n",
    "\n",
    "def play(com1, com2, env):\n",
    "    while True:        \n",
    "        if env.is_first_player():\n",
    "            action = com1.take_action()\n",
    "        else:\n",
    "            action = com2.take_action()\n",
    "        env.put(action)\n",
    "\n",
    "        if (value := env.is_done()) is not None:\n",
    "            break\n",
    "        \n",
    "        env.change_turn()\n",
    "    return value * env.turn\n",
    "    "
   ]
  },
  {
   "cell_type": "code",
   "execution_count": 4,
   "metadata": {},
   "outputs": [
    {
     "name": "stdout",
     "output_type": "stream",
     "text": [
      "OXX\n",
      "OOO\n",
      "_X_\n",
      "\n"
     ]
    }
   ],
   "source": [
    "episode = 1\n",
    "path = r'player\\qtable\\table1.npy'\n",
    "path2 = r\"qnet\\model1\"\n",
    "env = TicTacToe()\n",
    "com1 = alphazero.AlphaZero(env)\n",
    "com2 = alphabeta.AlphaBetaPlayer(env)\n",
    "win_count = 0\n",
    "win_rate = []\n",
    "\n",
    "for i in range(1, episode + 1):\n",
    "    if random.random() < 0:\n",
    "        value = play(com1, com2, env)\n",
    "        win_count += value if value > 0 else 0.5 if value == 0 else 0\n",
    "    else:\n",
    "        value = play(com2, com1, env)\n",
    "        win_count += -value if value <= 0 else 0\n",
    "    win_rate.append(win_count / i)\n",
    "    print(env)\n",
    "    env.reset()\n",
    "\n",
    "\n"
   ]
  },
  {
   "cell_type": "code",
   "execution_count": 11,
   "metadata": {},
   "outputs": [
    {
     "data": {
      "image/png": "[encoded data removed]",
      "text/plain": [
       "<Figure size 640x480 with 1 Axes>"
      ]
     },
     "metadata": {},
     "output_type": "display_data"
    }
   ],
   "source": [
    "%matplotlib inline\n",
    "\n",
    "import matplotlib.pyplot as plt\n",
    "\n",
    "plt.plot(range(1, episode + 1), win_rate)\n",
    "plt.ylim(0, 1.1)\n",
    "plt.show()\n",
    "\n"
   ]
  }
 ],
 "metadata": {
  "kernelspec": {
   "display_name": "venv",
   "language": "python",
   "name": "python3"
  },
  "language_info": {
   "codemirror_mode": {
    "name": "ipython",
    "version": 3
   },
   "file_extension": ".py",
   "mimetype": "text/x-python",
   "name": "python",
   "nbconvert_exporter": "python",
   "pygments_lexer": "ipython3",
   "version": "3.11.4"
  },
  "orig_nbformat": 4
 },
 "nbformat": 4,
 "nbformat_minor": 2
}

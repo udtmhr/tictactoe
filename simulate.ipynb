{
 "cells": [
  {
   "cell_type": "code",
   "execution_count": 1,
   "metadata": {},
   "outputs": [],
   "source": [
    "import random\n",
    "from tictactoe import TicTacToe\n",
    "from player import qlearn, random_player, mcs, mcts\n",
    "\n",
    "\n",
    "def play(com1, com2, env):\n",
    "    while True:        \n",
    "        if env.is_first_player():\n",
    "            action = com1.take_action()\n",
    "        else:\n",
    "            action = com2.take_action()\n",
    "        env.put(action)\n",
    "\n",
    "        if env.is_done():\n",
    "            break\n",
    "        \n",
    "        env.change_turn()\n",
    "    "
   ]
  },
  {
   "cell_type": "code",
   "execution_count": 87,
   "metadata": {},
   "outputs": [
    {
     "data": {
      "text/plain": [
       "810"
      ]
     },
     "execution_count": 87,
     "metadata": {},
     "output_type": "execute_result"
    }
   ],
   "source": [
    "episode = 1000\n",
    "path = r'player\\qtable\\table3.4.npy'\n",
    "env = TicTacToe()\n",
    "com1 = qlearn.QLPlayer(env, path)\n",
    "com2= random_player.RandomPlayer3(env)\n",
    "win_count = 0\n",
    "win_rate = []\n",
    "\n",
    "for i in range(1, episode + 1):\n",
    "    if random.random() < 1:\n",
    "        play(com1, com2, env)\n",
    "        win_count += 1 if not(env.is_win() and env.turn == -1) else 0\n",
    "    else:\n",
    "        play(com2, com1, env)\n",
    "        win_count += 1 if env.is_win() and env.turn == -1 else 0\n",
    "    win_rate.append(win_count / i)\n",
    "    env.reset()\n",
    "win_count\n",
    "\n"
   ]
  },
  {
   "cell_type": "code",
   "execution_count": 88,
   "metadata": {},
   "outputs": [
    {
     "data": {
      "image/png": "[encoded data removed]",
      "text/plain": [
       "<Figure size 640x480 with 1 Axes>"
      ]
     },
     "metadata": {},
     "output_type": "display_data"
    }
   ],
   "source": [
    "%matplotlib inline\n",
    "\n",
    "import matplotlib.pyplot as plt\n",
    "\n",
    "plt.plot(range(1, episode + 1), win_rate)\n",
    "plt.ylim(0, 1.1)\n",
    "plt.show()\n",
    "\n"
   ]
  },
  {
   "cell_type": "code",
   "execution_count": 4,
   "metadata": {},
   "outputs": [
    {
     "data": {
      "text/plain": [
       "29523"
      ]
     },
     "execution_count": 4,
     "metadata": {},
     "output_type": "execute_result"
    }
   ],
   "source": [
    "import numpy as np\n",
    "\n",
    "env.pb = np.array([1, 1, 1, 1, 1, 1, 1, 1, 1])\n",
    "env.ob = np.array([1, 1, 1, 1, 1, 1, 1, 1, 1])\n",
    "env.get_state()"
   ]
  }
 ],
 "metadata": {
  "kernelspec": {
   "display_name": "venv",
   "language": "python",
   "name": "python3"
  },
  "language_info": {
   "codemirror_mode": {
    "name": "ipython",
    "version": 3
   },
   "file_extension": ".py",
   "mimetype": "text/x-python",
   "name": "python",
   "nbconvert_exporter": "python",
   "pygments_lexer": "ipython3",
   "version": "3.11.4"
  },
  "orig_nbformat": 4
 },
 "nbformat": 4,
 "nbformat_minor": 2
}
